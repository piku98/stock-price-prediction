{
 "cells": [
  {
   "cell_type": "code",
   "execution_count": 112,
   "metadata": {},
   "outputs": [],
   "source": [
    "import numpy as np\n",
    "import tensorflow as tf\n",
    "import matplotlib.pyplot as plt\n",
    "import seaborn as sb\n",
    "import pandas as pd\n",
    "from sklearn.model_selection import train_test_split\n",
    "from sklearn.preprocessing import MinMaxScaler\n",
    "import matplotlib.figure as figure"
   ]
  },
  {
   "cell_type": "code",
   "execution_count": 113,
   "metadata": {},
   "outputs": [],
   "source": [
    "df = pd.read_csv('NASDAQ.csv')"
   ]
  },
  {
   "cell_type": "code",
   "execution_count": 114,
   "metadata": {},
   "outputs": [
    {
     "data": {
      "text/html": [
       "<div>\n",
       "<style scoped>\n",
       "    .dataframe tbody tr th:only-of-type {\n",
       "        vertical-align: middle;\n",
       "    }\n",
       "\n",
       "    .dataframe tbody tr th {\n",
       "        vertical-align: top;\n",
       "    }\n",
       "\n",
       "    .dataframe thead th {\n",
       "        text-align: right;\n",
       "    }\n",
       "</style>\n",
       "<table border=\"1\" class=\"dataframe\">\n",
       "  <thead>\n",
       "    <tr style=\"text-align: right;\">\n",
       "      <th></th>\n",
       "      <th>Date</th>\n",
       "      <th>LABEL</th>\n",
       "      <th>Open</th>\n",
       "      <th>High</th>\n",
       "      <th>Low</th>\n",
       "      <th>Close</th>\n",
       "      <th>Volume</th>\n",
       "      <th>InterestRate</th>\n",
       "      <th>ExchangeRate</th>\n",
       "      <th>VIX</th>\n",
       "      <th>Gold</th>\n",
       "      <th>Oil</th>\n",
       "      <th>TEDSpread</th>\n",
       "      <th>EFFR</th>\n",
       "    </tr>\n",
       "  </thead>\n",
       "  <tbody>\n",
       "    <tr>\n",
       "      <th>0</th>\n",
       "      <td>2008/4/1</td>\n",
       "      <td>0</td>\n",
       "      <td>2306.510010</td>\n",
       "      <td>2362.750000</td>\n",
       "      <td>2305.399902</td>\n",
       "      <td>2362.750000</td>\n",
       "      <td>2.160120e+09</td>\n",
       "      <td>1.77</td>\n",
       "      <td>1.5615</td>\n",
       "      <td>22.68</td>\n",
       "      <td>897.00</td>\n",
       "      <td>100.92</td>\n",
       "      <td>1.30</td>\n",
       "      <td>2.38</td>\n",
       "    </tr>\n",
       "    <tr>\n",
       "      <th>1</th>\n",
       "      <td>2008/4/2</td>\n",
       "      <td>1</td>\n",
       "      <td>2363.419922</td>\n",
       "      <td>2381.209961</td>\n",
       "      <td>2347.780029</td>\n",
       "      <td>2361.399902</td>\n",
       "      <td>1.996680e+09</td>\n",
       "      <td>1.72</td>\n",
       "      <td>1.5618</td>\n",
       "      <td>23.43</td>\n",
       "      <td>893.50</td>\n",
       "      <td>104.83</td>\n",
       "      <td>1.31</td>\n",
       "      <td>2.18</td>\n",
       "    </tr>\n",
       "    <tr>\n",
       "      <th>2</th>\n",
       "      <td>2008/4/3</td>\n",
       "      <td>1</td>\n",
       "      <td>2347.909912</td>\n",
       "      <td>2373.989990</td>\n",
       "      <td>2339.379883</td>\n",
       "      <td>2363.300049</td>\n",
       "      <td>1.993480e+09</td>\n",
       "      <td>1.70</td>\n",
       "      <td>1.5667</td>\n",
       "      <td>23.21</td>\n",
       "      <td>898.25</td>\n",
       "      <td>103.92</td>\n",
       "      <td>1.35</td>\n",
       "      <td>2.19</td>\n",
       "    </tr>\n",
       "    <tr>\n",
       "      <th>3</th>\n",
       "      <td>2008/4/4</td>\n",
       "      <td>0</td>\n",
       "      <td>2366.909912</td>\n",
       "      <td>2391.929932</td>\n",
       "      <td>2351.760010</td>\n",
       "      <td>2370.979980</td>\n",
       "      <td>1.977560e+09</td>\n",
       "      <td>1.67</td>\n",
       "      <td>1.5735</td>\n",
       "      <td>22.45</td>\n",
       "      <td>905.25</td>\n",
       "      <td>106.09</td>\n",
       "      <td>1.40</td>\n",
       "      <td>2.26</td>\n",
       "    </tr>\n",
       "    <tr>\n",
       "      <th>4</th>\n",
       "      <td>2008/4/7</td>\n",
       "      <td>0</td>\n",
       "      <td>2386.620117</td>\n",
       "      <td>2390.040039</td>\n",
       "      <td>2359.540039</td>\n",
       "      <td>2364.830078</td>\n",
       "      <td>1.730020e+09</td>\n",
       "      <td>1.62</td>\n",
       "      <td>1.5713</td>\n",
       "      <td>22.42</td>\n",
       "      <td>914.70</td>\n",
       "      <td>108.91</td>\n",
       "      <td>1.28</td>\n",
       "      <td>2.24</td>\n",
       "    </tr>\n",
       "  </tbody>\n",
       "</table>\n",
       "</div>"
      ],
      "text/plain": [
       "       Date  LABEL         Open         High          Low        Close  \\\n",
       "0  2008/4/1      0  2306.510010  2362.750000  2305.399902  2362.750000   \n",
       "1  2008/4/2      1  2363.419922  2381.209961  2347.780029  2361.399902   \n",
       "2  2008/4/3      1  2347.909912  2373.989990  2339.379883  2363.300049   \n",
       "3  2008/4/4      0  2366.909912  2391.929932  2351.760010  2370.979980   \n",
       "4  2008/4/7      0  2386.620117  2390.040039  2359.540039  2364.830078   \n",
       "\n",
       "         Volume  InterestRate  ExchangeRate    VIX    Gold     Oil  TEDSpread  \\\n",
       "0  2.160120e+09          1.77        1.5615  22.68  897.00  100.92       1.30   \n",
       "1  1.996680e+09          1.72        1.5618  23.43  893.50  104.83       1.31   \n",
       "2  1.993480e+09          1.70        1.5667  23.21  898.25  103.92       1.35   \n",
       "3  1.977560e+09          1.67        1.5735  22.45  905.25  106.09       1.40   \n",
       "4  1.730020e+09          1.62        1.5713  22.42  914.70  108.91       1.28   \n",
       "\n",
       "   EFFR  \n",
       "0  2.38  \n",
       "1  2.18  \n",
       "2  2.19  \n",
       "3  2.26  \n",
       "4  2.24  "
      ]
     },
     "execution_count": 114,
     "metadata": {},
     "output_type": "execute_result"
    }
   ],
   "source": [
    "df.head()"
   ]
  },
  {
   "cell_type": "code",
   "execution_count": 115,
   "metadata": {},
   "outputs": [],
   "source": [
    "data_df = df.drop(['Date', 'LABEL'], axis=1)"
   ]
  },
  {
   "cell_type": "code",
   "execution_count": 116,
   "metadata": {},
   "outputs": [
    {
     "data": {
      "text/html": [
       "<div>\n",
       "<style scoped>\n",
       "    .dataframe tbody tr th:only-of-type {\n",
       "        vertical-align: middle;\n",
       "    }\n",
       "\n",
       "    .dataframe tbody tr th {\n",
       "        vertical-align: top;\n",
       "    }\n",
       "\n",
       "    .dataframe thead th {\n",
       "        text-align: right;\n",
       "    }\n",
       "</style>\n",
       "<table border=\"1\" class=\"dataframe\">\n",
       "  <thead>\n",
       "    <tr style=\"text-align: right;\">\n",
       "      <th></th>\n",
       "      <th>Open</th>\n",
       "      <th>High</th>\n",
       "      <th>Low</th>\n",
       "      <th>Close</th>\n",
       "      <th>Volume</th>\n",
       "      <th>InterestRate</th>\n",
       "      <th>ExchangeRate</th>\n",
       "      <th>VIX</th>\n",
       "      <th>Gold</th>\n",
       "      <th>Oil</th>\n",
       "      <th>TEDSpread</th>\n",
       "      <th>EFFR</th>\n",
       "    </tr>\n",
       "  </thead>\n",
       "  <tbody>\n",
       "    <tr>\n",
       "      <th>0</th>\n",
       "      <td>2306.510010</td>\n",
       "      <td>2362.750000</td>\n",
       "      <td>2305.399902</td>\n",
       "      <td>2362.750000</td>\n",
       "      <td>2.160120e+09</td>\n",
       "      <td>1.77</td>\n",
       "      <td>1.5615</td>\n",
       "      <td>22.68</td>\n",
       "      <td>897.00</td>\n",
       "      <td>100.92</td>\n",
       "      <td>1.30</td>\n",
       "      <td>2.38</td>\n",
       "    </tr>\n",
       "    <tr>\n",
       "      <th>1</th>\n",
       "      <td>2363.419922</td>\n",
       "      <td>2381.209961</td>\n",
       "      <td>2347.780029</td>\n",
       "      <td>2361.399902</td>\n",
       "      <td>1.996680e+09</td>\n",
       "      <td>1.72</td>\n",
       "      <td>1.5618</td>\n",
       "      <td>23.43</td>\n",
       "      <td>893.50</td>\n",
       "      <td>104.83</td>\n",
       "      <td>1.31</td>\n",
       "      <td>2.18</td>\n",
       "    </tr>\n",
       "    <tr>\n",
       "      <th>2</th>\n",
       "      <td>2347.909912</td>\n",
       "      <td>2373.989990</td>\n",
       "      <td>2339.379883</td>\n",
       "      <td>2363.300049</td>\n",
       "      <td>1.993480e+09</td>\n",
       "      <td>1.70</td>\n",
       "      <td>1.5667</td>\n",
       "      <td>23.21</td>\n",
       "      <td>898.25</td>\n",
       "      <td>103.92</td>\n",
       "      <td>1.35</td>\n",
       "      <td>2.19</td>\n",
       "    </tr>\n",
       "    <tr>\n",
       "      <th>3</th>\n",
       "      <td>2366.909912</td>\n",
       "      <td>2391.929932</td>\n",
       "      <td>2351.760010</td>\n",
       "      <td>2370.979980</td>\n",
       "      <td>1.977560e+09</td>\n",
       "      <td>1.67</td>\n",
       "      <td>1.5735</td>\n",
       "      <td>22.45</td>\n",
       "      <td>905.25</td>\n",
       "      <td>106.09</td>\n",
       "      <td>1.40</td>\n",
       "      <td>2.26</td>\n",
       "    </tr>\n",
       "    <tr>\n",
       "      <th>4</th>\n",
       "      <td>2386.620117</td>\n",
       "      <td>2390.040039</td>\n",
       "      <td>2359.540039</td>\n",
       "      <td>2364.830078</td>\n",
       "      <td>1.730020e+09</td>\n",
       "      <td>1.62</td>\n",
       "      <td>1.5713</td>\n",
       "      <td>22.42</td>\n",
       "      <td>914.70</td>\n",
       "      <td>108.91</td>\n",
       "      <td>1.28</td>\n",
       "      <td>2.24</td>\n",
       "    </tr>\n",
       "  </tbody>\n",
       "</table>\n",
       "</div>"
      ],
      "text/plain": [
       "          Open         High          Low        Close        Volume  \\\n",
       "0  2306.510010  2362.750000  2305.399902  2362.750000  2.160120e+09   \n",
       "1  2363.419922  2381.209961  2347.780029  2361.399902  1.996680e+09   \n",
       "2  2347.909912  2373.989990  2339.379883  2363.300049  1.993480e+09   \n",
       "3  2366.909912  2391.929932  2351.760010  2370.979980  1.977560e+09   \n",
       "4  2386.620117  2390.040039  2359.540039  2364.830078  1.730020e+09   \n",
       "\n",
       "   InterestRate  ExchangeRate    VIX    Gold     Oil  TEDSpread  EFFR  \n",
       "0          1.77        1.5615  22.68  897.00  100.92       1.30  2.38  \n",
       "1          1.72        1.5618  23.43  893.50  104.83       1.31  2.18  \n",
       "2          1.70        1.5667  23.21  898.25  103.92       1.35  2.19  \n",
       "3          1.67        1.5735  22.45  905.25  106.09       1.40  2.26  \n",
       "4          1.62        1.5713  22.42  914.70  108.91       1.28  2.24  "
      ]
     },
     "execution_count": 116,
     "metadata": {},
     "output_type": "execute_result"
    }
   ],
   "source": [
    "data_df.head()"
   ]
  },
  {
   "cell_type": "code",
   "execution_count": 117,
   "metadata": {},
   "outputs": [],
   "source": [
    "data_df_X = data_df.drop(['Close'], axis=1)[:-1]\n",
    "data_df_y = data_df['Close']\n",
    "data_df_y = data_df_y.shift(-1, axis=0)[:-1]\n",
    "X = data_df_X.values\n",
    "y = data_df_y.values"
   ]
  },
  {
   "cell_type": "code",
   "execution_count": 118,
   "metadata": {},
   "outputs": [
    {
     "data": {
      "text/html": [
       "<div>\n",
       "<style scoped>\n",
       "    .dataframe tbody tr th:only-of-type {\n",
       "        vertical-align: middle;\n",
       "    }\n",
       "\n",
       "    .dataframe tbody tr th {\n",
       "        vertical-align: top;\n",
       "    }\n",
       "\n",
       "    .dataframe thead th {\n",
       "        text-align: right;\n",
       "    }\n",
       "</style>\n",
       "<table border=\"1\" class=\"dataframe\">\n",
       "  <thead>\n",
       "    <tr style=\"text-align: right;\">\n",
       "      <th></th>\n",
       "      <th>Open</th>\n",
       "      <th>High</th>\n",
       "      <th>Low</th>\n",
       "      <th>Volume</th>\n",
       "      <th>InterestRate</th>\n",
       "      <th>ExchangeRate</th>\n",
       "      <th>VIX</th>\n",
       "      <th>Gold</th>\n",
       "      <th>Oil</th>\n",
       "      <th>TEDSpread</th>\n",
       "      <th>EFFR</th>\n",
       "      <th>Close</th>\n",
       "    </tr>\n",
       "  </thead>\n",
       "  <tbody>\n",
       "    <tr>\n",
       "      <th>0</th>\n",
       "      <td>2306.510010</td>\n",
       "      <td>2362.750000</td>\n",
       "      <td>2305.399902</td>\n",
       "      <td>2.160120e+09</td>\n",
       "      <td>1.77</td>\n",
       "      <td>1.5615</td>\n",
       "      <td>22.68</td>\n",
       "      <td>897.00</td>\n",
       "      <td>100.92</td>\n",
       "      <td>1.30</td>\n",
       "      <td>2.38</td>\n",
       "      <td>2361.399902</td>\n",
       "    </tr>\n",
       "    <tr>\n",
       "      <th>1</th>\n",
       "      <td>2363.419922</td>\n",
       "      <td>2381.209961</td>\n",
       "      <td>2347.780029</td>\n",
       "      <td>1.996680e+09</td>\n",
       "      <td>1.72</td>\n",
       "      <td>1.5618</td>\n",
       "      <td>23.43</td>\n",
       "      <td>893.50</td>\n",
       "      <td>104.83</td>\n",
       "      <td>1.31</td>\n",
       "      <td>2.18</td>\n",
       "      <td>2363.300049</td>\n",
       "    </tr>\n",
       "    <tr>\n",
       "      <th>2</th>\n",
       "      <td>2347.909912</td>\n",
       "      <td>2373.989990</td>\n",
       "      <td>2339.379883</td>\n",
       "      <td>1.993480e+09</td>\n",
       "      <td>1.70</td>\n",
       "      <td>1.5667</td>\n",
       "      <td>23.21</td>\n",
       "      <td>898.25</td>\n",
       "      <td>103.92</td>\n",
       "      <td>1.35</td>\n",
       "      <td>2.19</td>\n",
       "      <td>2370.979980</td>\n",
       "    </tr>\n",
       "    <tr>\n",
       "      <th>3</th>\n",
       "      <td>2366.909912</td>\n",
       "      <td>2391.929932</td>\n",
       "      <td>2351.760010</td>\n",
       "      <td>1.977560e+09</td>\n",
       "      <td>1.67</td>\n",
       "      <td>1.5735</td>\n",
       "      <td>22.45</td>\n",
       "      <td>905.25</td>\n",
       "      <td>106.09</td>\n",
       "      <td>1.40</td>\n",
       "      <td>2.26</td>\n",
       "      <td>2364.830078</td>\n",
       "    </tr>\n",
       "    <tr>\n",
       "      <th>4</th>\n",
       "      <td>2386.620117</td>\n",
       "      <td>2390.040039</td>\n",
       "      <td>2359.540039</td>\n",
       "      <td>1.730020e+09</td>\n",
       "      <td>1.62</td>\n",
       "      <td>1.5713</td>\n",
       "      <td>22.42</td>\n",
       "      <td>914.70</td>\n",
       "      <td>108.91</td>\n",
       "      <td>1.28</td>\n",
       "      <td>2.24</td>\n",
       "      <td>2348.760010</td>\n",
       "    </tr>\n",
       "  </tbody>\n",
       "</table>\n",
       "</div>"
      ],
      "text/plain": [
       "          Open         High          Low        Volume  InterestRate  \\\n",
       "0  2306.510010  2362.750000  2305.399902  2.160120e+09          1.77   \n",
       "1  2363.419922  2381.209961  2347.780029  1.996680e+09          1.72   \n",
       "2  2347.909912  2373.989990  2339.379883  1.993480e+09          1.70   \n",
       "3  2366.909912  2391.929932  2351.760010  1.977560e+09          1.67   \n",
       "4  2386.620117  2390.040039  2359.540039  1.730020e+09          1.62   \n",
       "\n",
       "   ExchangeRate    VIX    Gold     Oil  TEDSpread  EFFR        Close  \n",
       "0        1.5615  22.68  897.00  100.92       1.30  2.38  2361.399902  \n",
       "1        1.5618  23.43  893.50  104.83       1.31  2.18  2363.300049  \n",
       "2        1.5667  23.21  898.25  103.92       1.35  2.19  2370.979980  \n",
       "3        1.5735  22.45  905.25  106.09       1.40  2.26  2364.830078  \n",
       "4        1.5713  22.42  914.70  108.91       1.28  2.24  2348.760010  "
      ]
     },
     "execution_count": 118,
     "metadata": {},
     "output_type": "execute_result"
    }
   ],
   "source": [
    "corr_df = pd.concat([data_df_X, data_df_y], axis=1)\n",
    "corr_df.head()"
   ]
  },
  {
   "cell_type": "code",
   "execution_count": 119,
   "metadata": {},
   "outputs": [],
   "source": [
    "corr = corr_df.corr()"
   ]
  },
  {
   "cell_type": "code",
   "execution_count": 120,
   "metadata": {},
   "outputs": [
    {
     "data": {
      "text/plain": [
       "<matplotlib.axes._subplots.AxesSubplot at 0x7f5dfcb2b710>"
      ]
     },
     "execution_count": 120,
     "metadata": {},
     "output_type": "execute_result"
    },
    {
     "data": {
      "image/png": "[encoded data removed]",
      "text/plain": [
       "<Figure size 842.4x595.44 with 2 Axes>"
      ]
     },
     "metadata": {},
     "output_type": "display_data"
    }
   ],
   "source": [
    "sb.set(rc={'figure.figsize':(11.7,8.27)})\n",
    "sb.heatmap(corr, xticklabels=corr.columns, yticklabels=corr.columns)"
   ]
  },
  {
   "cell_type": "code",
   "execution_count": 121,
   "metadata": {},
   "outputs": [],
   "source": [
    "X_train, X_test, y_train, y_test = train_test_split(X, y, test_size=0.2, random_state=0, shuffle=False)\n",
    "y_train = y_train.reshape(-1, 1)\n",
    "y_test = y_test.reshape(-1, 1)"
   ]
  },
  {
   "cell_type": "code",
   "execution_count": 122,
   "metadata": {},
   "outputs": [],
   "source": [
    "scaler = MinMaxScaler()\n",
    "X_train_norm = scaler.fit_transform(X_train)\n",
    "X_test_norm = scaler.fit_transform(X_test)\n",
    "y_train_norm = scaler.fit_transform(y_train)\n",
    "y_test_norm = scaler.fit_transform(y_test)"
   ]
  },
  {
   "cell_type": "code",
   "execution_count": 123,
   "metadata": {},
   "outputs": [],
   "source": [
    "n_input = 11\n",
    "n_l1 = 12\n",
    "n_l2 = 14\n",
    "n_l3 = 14\n",
    "n_l4 = 14\n",
    "n_l5 = 14\n",
    "n_out = 1"
   ]
  },
  {
   "cell_type": "code",
   "execution_count": 124,
   "metadata": {},
   "outputs": [],
   "source": [
    "X = tf.placeholder(dtype=tf.float32, shape=[None, n_input])\n",
    "Y = tf.placeholder(dtype=tf.float32, shape=[None, 1])"
   ]
  },
  {
   "cell_type": "code",
   "execution_count": 125,
   "metadata": {},
   "outputs": [],
   "source": [
    "sigma = 1\n",
    "weight_initializer = tf.variance_scaling_initializer(mode=\"fan_avg\", distribution=\"uniform\", scale=sigma)\n",
    "bias_initializer = tf.zeros_initializer()"
   ]
  },
  {
   "cell_type": "code",
   "execution_count": 126,
   "metadata": {},
   "outputs": [],
   "source": [
    "w1 = tf.Variable(weight_initializer([n_input, n_l1]))\n",
    "b1 = tf.Variable(bias_initializer([n_l1]))\n",
    "w2 = tf.Variable(weight_initializer([n_l1, n_l2]))\n",
    "b2 = tf.Variable(bias_initializer([n_l2]))\n",
    "w3 = tf.Variable(weight_initializer([n_l2, n_l3]))\n",
    "b3 = tf.Variable(bias_initializer([n_l3]))\n",
    "w4 = tf.Variable(weight_initializer([n_l3, n_l4]))\n",
    "b4 = tf.Variable(bias_initializer([n_l4]))\n",
    "w5 = tf.Variable(weight_initializer([n_l4, n_l5]))\n",
    "b5 = tf.Variable(bias_initializer([n_l5]))\n",
    "w_out = tf.Variable(weight_initializer([n_l5, n_out]))\n",
    "b_out = tf.Variable(bias_initializer([n_out]))"
   ]
  },
  {
   "cell_type": "code",
   "execution_count": 127,
   "metadata": {},
   "outputs": [],
   "source": [
    "l1 = tf.nn.relu(tf.add(tf.matmul(X, w1), b1))\n",
    "l2 = tf.nn.relu(tf.add(tf.matmul(l1, w2), b2))\n",
    "l3 = tf.nn.relu(tf.add(tf.matmul(l2, w3), b3))\n",
    "l4 = tf.nn.relu(tf.add(tf.matmul(l3, w4), b4))\n",
    "l5 = tf.nn.relu(tf.add(tf.matmul(l4, w5), b5))\n",
    "out = tf.transpose(tf.add(tf.matmul(l5, w_out), b_out))"
   ]
  },
  {
   "cell_type": "code",
   "execution_count": 128,
   "metadata": {},
   "outputs": [],
   "source": [
    "mse = tf.reduce_mean(tf.squared_difference(out, Y))\n",
    "opt = tf.train.AdamOptimizer().minimize(mse)"
   ]
  },
  {
   "cell_type": "code",
   "execution_count": 129,
   "metadata": {},
   "outputs": [],
   "source": [
    "test_session = tf.Session(config=tf.ConfigProto(log_device_placement=True))"
   ]
  },
  {
   "cell_type": "code",
   "execution_count": 130,
   "metadata": {},
   "outputs": [],
   "source": [
    "test_session.run(tf.global_variables_initializer())"
   ]
  },
  {
   "cell_type": "code",
   "execution_count": 131,
   "metadata": {},
   "outputs": [],
   "source": [
    "batch_size = 5\n",
    "for e in range(50):\n",
    "    for i in range(len(y_train)):\n",
    "        start = i * batch_size\n",
    "        batch_X = X_train_norm[start : start + batch_size]\n",
    "        batch_y = y_train_norm[start : start + batch_size]\n",
    "        test_session.run(opt, feed_dict={X: batch_X, Y: batch_y})"
   ]
  },
  {
   "cell_type": "code",
   "execution_count": 132,
   "metadata": {},
   "outputs": [
    {
     "data": {
      "text/plain": [
       "0.1320751"
      ]
     },
     "execution_count": 132,
     "metadata": {},
     "output_type": "execute_result"
    }
   ],
   "source": [
    "test_session.run(mse, feed_dict={X: X_test_norm, Y: y_test_norm})"
   ]
  },
  {
   "cell_type": "code",
   "execution_count": 133,
   "metadata": {},
   "outputs": [],
   "source": [
    "predictions = test_session.run(out, feed_dict={X: X_test_norm})"
   ]
  },
  {
   "cell_type": "code",
   "execution_count": 134,
   "metadata": {},
   "outputs": [],
   "source": [
    "predictions_denorm = scaler.inverse_transform(predictions)"
   ]
  },
  {
   "cell_type": "code",
   "execution_count": 135,
   "metadata": {},
   "outputs": [
    {
     "data": {
      "image/png": "[encoded data removed]",
      "text/plain": [
       "<Figure size 842.4x595.44 with 1 Axes>"
      ]
     },
     "metadata": {},
     "output_type": "display_data"
    }
   ],
   "source": [
    "plt.plot(range(len(y_test)), y_test, color='b')\n",
    "plt.plot(range(len(y_test)), predictions_denorm.flatten(), color='r')\n",
    "plt.show()"
   ]
  },
  {
   "cell_type": "code",
   "execution_count": 140,
   "metadata": {},
   "outputs": [
    {
     "data": {
      "text/plain": [
       "(1957, 11)"
      ]
     },
     "execution_count": 140,
     "metadata": {},
     "output_type": "execute_result"
    }
   ],
   "source": [
    "X_train.shape"
   ]
  },
  {
   "cell_type": "code",
   "execution_count": null,
   "metadata": {},
   "outputs": [],
   "source": []
  }
 ],
 "metadata": {
  "kernelspec": {
   "display_name": "Python 3",
   "language": "python",
   "name": "python3"
  },
  "language_info": {
   "codemirror_mode": {
    "name": "ipython",
    "version": 3
   },
   "file_extension": ".py",
   "mimetype": "text/x-python",
   "name": "python",
   "nbconvert_exporter": "python",
   "pygments_lexer": "ipython3",
   "version": "3.7.3"
  }
 },
 "nbformat": 4,
 "nbformat_minor": 2
}
